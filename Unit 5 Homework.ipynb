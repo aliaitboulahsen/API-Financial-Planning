{
 "cells": [
  {
   "cell_type": "code",
   "execution_count": 1,
   "id": "1b73fd32",
   "metadata": {},
   "outputs": [],
   "source": [
    "#Unit 5 Homework - Financial Planning"
   ]
  },
  {
   "cell_type": "code",
   "execution_count": 1,
   "id": "5091de8c",
   "metadata": {},
   "outputs": [],
   "source": [
    "import os\n",
    "import pandas as pd\n",
    "import alpaca_trade_api as tradeapi\n",
    "import requests\n",
    "import json\n",
    "from alpaca_trade_api.rest import REST, TimeFrame\n",
    "import matplotlib.pyplot as plt\n"
   ]
  },
  {
   "cell_type": "code",
   "execution_count": 2,
   "id": "e5d15f16",
   "metadata": {},
   "outputs": [],
   "source": [
    "from dotenv import load_dotenv\n",
    "load_dotenv()\n",
    "#Collect Crypto Prices:\n",
    "#Set amount of crypto assets\n",
    "my_btc = 1.2\n",
    "my_eth = 5.3"
   ]
  },
  {
   "cell_type": "code",
   "execution_count": 3,
   "id": "ad654c57",
   "metadata": {},
   "outputs": [],
   "source": [
    "#Crypto API URLs:\n",
    "btc_url = \"https://api.alternative.me/v2/ticker/Bitcoin/?convert=CAD\"\n",
    "eth_url = \"https://api.alternative.me/v2/ticker/Ethereum/?convert=CAD\""
   ]
  },
  {
   "cell_type": "code",
   "execution_count": 4,
   "id": "9e05c9aa",
   "metadata": {},
   "outputs": [
    {
     "name": "stdout",
     "output_type": "stream",
     "text": [
      "55696.6068\n"
     ]
    }
   ],
   "source": [
    "#Fetch current BTC price:\n",
    "btc_data = requests.get(btc_url).json()\n",
    "btc_price = btc_data[\"data\"][\"1\"][\"quotes\"][\"CAD\"][\"price\"]\n",
    "print(btc_price)"
   ]
  },
  {
   "cell_type": "code",
   "execution_count": 5,
   "id": "735de04b",
   "metadata": {},
   "outputs": [
    {
     "name": "stdout",
     "output_type": "stream",
     "text": [
      "3924.899696\n"
     ]
    }
   ],
   "source": [
    "#Fetch current ETH price:\n",
    "eth_data = requests.get(eth_url).json()\n",
    "eth_price = eth_data[\"data\"][\"1027\"][\"quotes\"][\"CAD\"][\"price\"]\n",
    "print(eth_price)"
   ]
  },
  {
   "cell_type": "code",
   "execution_count": 6,
   "id": "a0522b74",
   "metadata": {},
   "outputs": [
    {
     "name": "stdout",
     "output_type": "stream",
     "text": [
      "The current value of your 1.2 BTC is $66835.93\n",
      "The current value of your 5.3 ETH is $20801.97\n",
      "The total current value of your crypto portfolio is $87637.90\n"
     ]
    }
   ],
   "source": [
    "# The current value of my crpto\n",
    "my_btc_value = my_btc*btc_price\n",
    "my_eth_value = my_eth*eth_price\n",
    "total_crypto_value = my_btc_value + my_eth_value\n",
    "# Print current crypto wallet balance\n",
    "print(f\"The current value of your {my_btc} BTC is ${my_btc_value:0.2f}\")\n",
    "print(f\"The current value of your {my_eth} ETH is ${my_eth_value:0.2f}\")\n",
    "print(f\"The total current value of your crypto portfolio is ${total_crypto_value:0.2f}\")"
   ]
  },
  {
   "cell_type": "code",
   "execution_count": 7,
   "id": "0bfb7458",
   "metadata": {},
   "outputs": [],
   "source": [
    "#Collect Investments Data \n",
    "# Set current amount of shares\n",
    "my_agg = 200\n",
    "my_spy = 50"
   ]
  },
  {
   "cell_type": "code",
   "execution_count": 8,
   "id": "a26890ad",
   "metadata": {},
   "outputs": [],
   "source": [
    "#Load .env environment variables\n",
    "load_dotenv()\n",
    "#Load Alpaca Key from .env file\n",
    "alpaca_api_key = os.getenv(\"ALPACA_API_KEY\")\n",
    "alpaca_secret_key = os.getenv(\"ALPACA_SECRET_KEY\")\n",
    "#Alpaca API object\n",
    "alpaca = trade_api.REST(alpaca_api_key,alpaca_secret_key,api_version=\"v2\")"
   ]
  },
  {
   "cell_type": "code",
   "execution_count": 9,
   "id": "a1c6b86e",
   "metadata": {},
   "outputs": [
    {
     "data": {
      "text/html": [
       "<div>\n",
       "<style scoped>\n",
       "    .dataframe tbody tr th:only-of-type {\n",
       "        vertical-align: middle;\n",
       "    }\n",
       "\n",
       "    .dataframe tbody tr th {\n",
       "        vertical-align: top;\n",
       "    }\n",
       "\n",
       "    .dataframe thead th {\n",
       "        text-align: right;\n",
       "    }\n",
       "</style>\n",
       "<table border=\"1\" class=\"dataframe\">\n",
       "  <thead>\n",
       "    <tr style=\"text-align: right;\">\n",
       "      <th></th>\n",
       "      <th>open</th>\n",
       "      <th>high</th>\n",
       "      <th>low</th>\n",
       "      <th>close</th>\n",
       "      <th>volume</th>\n",
       "      <th>trade_count</th>\n",
       "      <th>vwap</th>\n",
       "      <th>symbol</th>\n",
       "    </tr>\n",
       "    <tr>\n",
       "      <th>timestamp</th>\n",
       "      <th></th>\n",
       "      <th></th>\n",
       "      <th></th>\n",
       "      <th></th>\n",
       "      <th></th>\n",
       "      <th></th>\n",
       "      <th></th>\n",
       "      <th></th>\n",
       "    </tr>\n",
       "  </thead>\n",
       "  <tbody>\n",
       "    <tr>\n",
       "      <th>2022-03-21 04:00:00+00:00</th>\n",
       "      <td>107.58</td>\n",
       "      <td>107.649</td>\n",
       "      <td>106.9841</td>\n",
       "      <td>107.04</td>\n",
       "      <td>7583668</td>\n",
       "      <td>27316</td>\n",
       "      <td>107.310151</td>\n",
       "      <td>AGG</td>\n",
       "    </tr>\n",
       "    <tr>\n",
       "      <th>2022-03-21 04:00:00+00:00</th>\n",
       "      <td>444.45</td>\n",
       "      <td>446.460</td>\n",
       "      <td>440.6800</td>\n",
       "      <td>444.30</td>\n",
       "      <td>85377983</td>\n",
       "      <td>912432</td>\n",
       "      <td>443.796432</td>\n",
       "      <td>SPY</td>\n",
       "    </tr>\n",
       "  </tbody>\n",
       "</table>\n",
       "</div>"
      ],
      "text/plain": [
       "                             open     high       low   close    volume  \\\n",
       "timestamp                                                                \n",
       "2022-03-21 04:00:00+00:00  107.58  107.649  106.9841  107.04   7583668   \n",
       "2022-03-21 04:00:00+00:00  444.45  446.460  440.6800  444.30  85377983   \n",
       "\n",
       "                           trade_count        vwap symbol  \n",
       "timestamp                                                  \n",
       "2022-03-21 04:00:00+00:00        27316  107.310151    AGG  \n",
       "2022-03-21 04:00:00+00:00       912432  443.796432    SPY  "
      ]
     },
     "execution_count": 9,
     "metadata": {},
     "output_type": "execute_result"
    }
   ],
   "source": [
    "#Set the tickers\n",
    "ticker = [\"AGG\",\"SPY\"]\n",
    "# Get current price for each ticker\n",
    "investment_df = alpaca.get_bars(ticker,TimeFrame.Day,\"2022-03-21\",\"2022-03-21\", adjustment=\"raw\").df\n",
    "investment_df"
   ]
  },
  {
   "cell_type": "code",
   "execution_count": 10,
   "id": "870c8b55",
   "metadata": {},
   "outputs": [
    {
     "name": "stdout",
     "output_type": "stream",
     "text": [
      "Current AGG closing price: $107.04\n",
      "Current SPY closing price: $444.3\n"
     ]
    }
   ],
   "source": [
    "#Current price of AGG:\n",
    "agg_close_price = investment_df[\"close\"][0]\n",
    "#Current price of SPY:\n",
    "spy_close_price = investment_df[\"close\"][1]\n",
    "print(f\"Current AGG closing price: ${agg_close_price}\")\n",
    "print(f\"Current SPY closing price: ${spy_close_price}\")"
   ]
  },
  {
   "cell_type": "code",
   "execution_count": 11,
   "id": "74ccb013",
   "metadata": {},
   "outputs": [
    {
     "name": "stdout",
     "output_type": "stream",
     "text": [
      "The current value of your 50 SPY shares is $21408.00\n",
      "The current value of your 200 AGG shares is $22215.00\n",
      "The total current value of your shares and bonds portfolio is $43623.00\n"
     ]
    }
   ],
   "source": [
    "# The current value of my shares and bonds\n",
    "my_agg_value = my_spy*spy_close_price\n",
    "my_spy_value = my_agg*agg_close_price\n",
    "total_shares_value = my_agg_value + my_spy_value\n",
    "# Print current value of shares and bonds\n",
    "print(f\"The current value of your {my_spy} SPY shares is ${my_spy_value:0.2f}\")\n",
    "print(f\"The current value of your {my_agg} AGG shares is ${my_agg_value:0.2f}\")\n",
    "print(f\"The total current value of your shares and bonds portfolio is ${total_shares_value:0.2f}\")"
   ]
  },
  {
   "cell_type": "code",
   "execution_count": 12,
   "id": "0d9beeee",
   "metadata": {},
   "outputs": [
    {
     "data": {
      "text/html": [
       "<div>\n",
       "<style scoped>\n",
       "    .dataframe tbody tr th:only-of-type {\n",
       "        vertical-align: middle;\n",
       "    }\n",
       "\n",
       "    .dataframe tbody tr th {\n",
       "        vertical-align: top;\n",
       "    }\n",
       "\n",
       "    .dataframe thead th {\n",
       "        text-align: right;\n",
       "    }\n",
       "</style>\n",
       "<table border=\"1\" class=\"dataframe\">\n",
       "  <thead>\n",
       "    <tr style=\"text-align: right;\">\n",
       "      <th></th>\n",
       "      <th>amount</th>\n",
       "    </tr>\n",
       "  </thead>\n",
       "  <tbody>\n",
       "    <tr>\n",
       "      <th>crypto</th>\n",
       "      <td>87637.896549</td>\n",
       "    </tr>\n",
       "    <tr>\n",
       "      <th>shares</th>\n",
       "      <td>43623.000000</td>\n",
       "    </tr>\n",
       "  </tbody>\n",
       "</table>\n",
       "</div>"
      ],
      "text/plain": [
       "              amount\n",
       "crypto  87637.896549\n",
       "shares  43623.000000"
      ]
     },
     "execution_count": 12,
     "metadata": {},
     "output_type": "execute_result"
    }
   ],
   "source": [
    "#Saving Health Analysis\n",
    "monthly_income = 12000\n",
    "# Consolidate financial assets data\n",
    "portfolio = {\"amount\":[total_crypto_value,total_shares_value]}\n",
    "# Create savings DataFrame\n",
    "df_savings = pd.DataFrame(data=portfolio,index=[\"crypto\",\"shares\"])\n",
    "df_savings"
   ]
  },
  {
   "cell_type": "code",
   "execution_count": 13,
   "id": "119edbe9",
   "metadata": {},
   "outputs": [
    {
     "data": {
      "text/plain": [
       "Text(0.5, 1.0, 'My Personal Savings Composition')"
      ]
     },
     "execution_count": 13,
     "metadata": {},
     "output_type": "execute_result"
    },
    {
     "data": {
      "image/png": "[encoded data removed]",
      "text/plain": [
       "<Figure size 432x288 with 1 Axes>"
      ]
     },
     "metadata": {},
     "output_type": "display_data"
    }
   ],
   "source": [
    "# Plot savings pie chart\n",
    "plt.pie(df_savings[\"amount\"],labels=df_savings.index)\n",
    "plt.title(\"My Personal Savings Composition\")"
   ]
  },
  {
   "cell_type": "code",
   "execution_count": 14,
   "id": "3d50e1dd",
   "metadata": {},
   "outputs": [
    {
     "name": "stdout",
     "output_type": "stream",
     "text": [
      "Congratulations! You have enough money in your emergency fund\n"
     ]
    }
   ],
   "source": [
    "# Set ideal emergency fund\n",
    "emergency_fund = monthly_income * 3\n",
    "\n",
    "# Calculate total amount of savings\n",
    "total_savings = total_crypto_value + total_shares_value\n",
    "\n",
    "# Validate saving health\n",
    "if total_savings > emergency_fund:\n",
    "    print(\"Congratulations! You have enough money in your emergency fund\")\n",
    "if total_savings == emergency_fund:\n",
    "    print(\"Congratulating the person on reaching this financial goal\")\n",
    "if total_savings < emergency_fund:\n",
    "    print(f\"You still need {emergency_fund - total_savings} to meet your goal\")"
   ]
  },
  {
   "cell_type": "code",
   "execution_count": 26,
   "id": "f5913b62",
   "metadata": {},
   "outputs": [
    {
     "data": {
      "text/html": [
       "<div>\n",
       "<style scoped>\n",
       "    .dataframe tbody tr th:only-of-type {\n",
       "        vertical-align: middle;\n",
       "    }\n",
       "\n",
       "    .dataframe tbody tr th {\n",
       "        vertical-align: top;\n",
       "    }\n",
       "\n",
       "    .dataframe thead th {\n",
       "        text-align: right;\n",
       "    }\n",
       "</style>\n",
       "<table border=\"1\" class=\"dataframe\">\n",
       "  <thead>\n",
       "    <tr style=\"text-align: right;\">\n",
       "      <th></th>\n",
       "      <th>open</th>\n",
       "      <th>high</th>\n",
       "      <th>low</th>\n",
       "      <th>close</th>\n",
       "      <th>volume</th>\n",
       "      <th>trade_count</th>\n",
       "      <th>vwap</th>\n",
       "      <th>symbol</th>\n",
       "    </tr>\n",
       "    <tr>\n",
       "      <th>timestamp</th>\n",
       "      <th></th>\n",
       "      <th></th>\n",
       "      <th></th>\n",
       "      <th></th>\n",
       "      <th></th>\n",
       "      <th></th>\n",
       "      <th></th>\n",
       "      <th></th>\n",
       "    </tr>\n",
       "  </thead>\n",
       "  <tbody>\n",
       "    <tr>\n",
       "      <th>2017-03-21 04:00:00+00:00</th>\n",
       "      <td>107.93</td>\n",
       "      <td>108.27</td>\n",
       "      <td>107.9300</td>\n",
       "      <td>108.27</td>\n",
       "      <td>2049680</td>\n",
       "      <td>12024</td>\n",
       "      <td>108.175725</td>\n",
       "      <td>AGG</td>\n",
       "    </tr>\n",
       "    <tr>\n",
       "      <th>2017-03-22 04:00:00+00:00</th>\n",
       "      <td>108.44</td>\n",
       "      <td>108.54</td>\n",
       "      <td>108.3600</td>\n",
       "      <td>108.42</td>\n",
       "      <td>2643641</td>\n",
       "      <td>11111</td>\n",
       "      <td>108.455049</td>\n",
       "      <td>AGG</td>\n",
       "    </tr>\n",
       "    <tr>\n",
       "      <th>2017-03-23 04:00:00+00:00</th>\n",
       "      <td>108.44</td>\n",
       "      <td>108.51</td>\n",
       "      <td>108.2635</td>\n",
       "      <td>108.45</td>\n",
       "      <td>2071485</td>\n",
       "      <td>10901</td>\n",
       "      <td>108.417635</td>\n",
       "      <td>AGG</td>\n",
       "    </tr>\n",
       "    <tr>\n",
       "      <th>2017-03-24 04:00:00+00:00</th>\n",
       "      <td>108.35</td>\n",
       "      <td>108.51</td>\n",
       "      <td>108.3100</td>\n",
       "      <td>108.36</td>\n",
       "      <td>3374871</td>\n",
       "      <td>11229</td>\n",
       "      <td>108.398485</td>\n",
       "      <td>AGG</td>\n",
       "    </tr>\n",
       "    <tr>\n",
       "      <th>2017-03-27 04:00:00+00:00</th>\n",
       "      <td>108.65</td>\n",
       "      <td>108.71</td>\n",
       "      <td>108.5345</td>\n",
       "      <td>108.62</td>\n",
       "      <td>1977292</td>\n",
       "      <td>11112</td>\n",
       "      <td>108.600681</td>\n",
       "      <td>AGG</td>\n",
       "    </tr>\n",
       "  </tbody>\n",
       "</table>\n",
       "</div>"
      ],
      "text/plain": [
       "                             open    high       low   close   volume  \\\n",
       "timestamp                                                              \n",
       "2017-03-21 04:00:00+00:00  107.93  108.27  107.9300  108.27  2049680   \n",
       "2017-03-22 04:00:00+00:00  108.44  108.54  108.3600  108.42  2643641   \n",
       "2017-03-23 04:00:00+00:00  108.44  108.51  108.2635  108.45  2071485   \n",
       "2017-03-24 04:00:00+00:00  108.35  108.51  108.3100  108.36  3374871   \n",
       "2017-03-27 04:00:00+00:00  108.65  108.71  108.5345  108.62  1977292   \n",
       "\n",
       "                           trade_count        vwap symbol  \n",
       "timestamp                                                  \n",
       "2017-03-21 04:00:00+00:00        12024  108.175725    AGG  \n",
       "2017-03-22 04:00:00+00:00        11111  108.455049    AGG  \n",
       "2017-03-23 04:00:00+00:00        10901  108.417635    AGG  \n",
       "2017-03-24 04:00:00+00:00        11229  108.398485    AGG  \n",
       "2017-03-27 04:00:00+00:00        11112  108.600681    AGG  "
      ]
     },
     "execution_count": 26,
     "metadata": {},
     "output_type": "execute_result"
    }
   ],
   "source": [
    "#Retirement Planning\n",
    "#Get 5 years historical data for \"AGG\",\"SPY\"\n",
    "ticker = [\"AGG\",\"SPY\"]\n",
    "alpaca_data = alpaca.get_bars(ticker,TimeFrame.Day,\"2017-03-21\",\"2022-03-21\", adjustment=\"raw\").df\n",
    "alpaca_data.head(5)\n"
   ]
  },
  {
   "cell_type": "code",
   "execution_count": 27,
   "id": "4ec11de4",
   "metadata": {},
   "outputs": [
    {
     "data": {
      "text/html": [
       "<div>\n",
       "<style scoped>\n",
       "    .dataframe tbody tr th:only-of-type {\n",
       "        vertical-align: middle;\n",
       "    }\n",
       "\n",
       "    .dataframe tbody tr th {\n",
       "        vertical-align: top;\n",
       "    }\n",
       "\n",
       "    .dataframe thead tr th {\n",
       "        text-align: left;\n",
       "    }\n",
       "\n",
       "    .dataframe thead tr:last-of-type th {\n",
       "        text-align: right;\n",
       "    }\n",
       "</style>\n",
       "<table border=\"1\" class=\"dataframe\">\n",
       "  <thead>\n",
       "    <tr>\n",
       "      <th></th>\n",
       "      <th colspan=\"7\" halign=\"left\">AGG</th>\n",
       "      <th colspan=\"7\" halign=\"left\">SPY</th>\n",
       "    </tr>\n",
       "    <tr>\n",
       "      <th></th>\n",
       "      <th>open</th>\n",
       "      <th>high</th>\n",
       "      <th>low</th>\n",
       "      <th>close</th>\n",
       "      <th>volume</th>\n",
       "      <th>trade_count</th>\n",
       "      <th>vwap</th>\n",
       "      <th>open</th>\n",
       "      <th>high</th>\n",
       "      <th>low</th>\n",
       "      <th>close</th>\n",
       "      <th>volume</th>\n",
       "      <th>trade_count</th>\n",
       "      <th>vwap</th>\n",
       "    </tr>\n",
       "    <tr>\n",
       "      <th>timestamp</th>\n",
       "      <th></th>\n",
       "      <th></th>\n",
       "      <th></th>\n",
       "      <th></th>\n",
       "      <th></th>\n",
       "      <th></th>\n",
       "      <th></th>\n",
       "      <th></th>\n",
       "      <th></th>\n",
       "      <th></th>\n",
       "      <th></th>\n",
       "      <th></th>\n",
       "      <th></th>\n",
       "      <th></th>\n",
       "    </tr>\n",
       "  </thead>\n",
       "  <tbody>\n",
       "    <tr>\n",
       "      <th>2017-03-21 04:00:00+00:00</th>\n",
       "      <td>107.93</td>\n",
       "      <td>108.27</td>\n",
       "      <td>107.9300</td>\n",
       "      <td>108.27</td>\n",
       "      <td>2049680</td>\n",
       "      <td>12024</td>\n",
       "      <td>108.175725</td>\n",
       "      <td>237.49</td>\n",
       "      <td>237.61</td>\n",
       "      <td>233.58</td>\n",
       "      <td>233.73</td>\n",
       "      <td>131809275</td>\n",
       "      <td>443599</td>\n",
       "      <td>234.853857</td>\n",
       "    </tr>\n",
       "    <tr>\n",
       "      <th>2017-03-22 04:00:00+00:00</th>\n",
       "      <td>108.44</td>\n",
       "      <td>108.54</td>\n",
       "      <td>108.3600</td>\n",
       "      <td>108.42</td>\n",
       "      <td>2643641</td>\n",
       "      <td>11111</td>\n",
       "      <td>108.455049</td>\n",
       "      <td>233.73</td>\n",
       "      <td>234.61</td>\n",
       "      <td>233.05</td>\n",
       "      <td>234.28</td>\n",
       "      <td>97569204</td>\n",
       "      <td>307469</td>\n",
       "      <td>233.932509</td>\n",
       "    </tr>\n",
       "    <tr>\n",
       "      <th>2017-03-23 04:00:00+00:00</th>\n",
       "      <td>108.44</td>\n",
       "      <td>108.51</td>\n",
       "      <td>108.2635</td>\n",
       "      <td>108.45</td>\n",
       "      <td>2071485</td>\n",
       "      <td>10901</td>\n",
       "      <td>108.417635</td>\n",
       "      <td>233.98</td>\n",
       "      <td>235.34</td>\n",
       "      <td>233.60</td>\n",
       "      <td>234.03</td>\n",
       "      <td>100410277</td>\n",
       "      <td>333903</td>\n",
       "      <td>234.388790</td>\n",
       "    </tr>\n",
       "    <tr>\n",
       "      <th>2017-03-24 04:00:00+00:00</th>\n",
       "      <td>108.35</td>\n",
       "      <td>108.51</td>\n",
       "      <td>108.3100</td>\n",
       "      <td>108.36</td>\n",
       "      <td>3374871</td>\n",
       "      <td>11229</td>\n",
       "      <td>108.398485</td>\n",
       "      <td>234.35</td>\n",
       "      <td>235.04</td>\n",
       "      <td>232.96</td>\n",
       "      <td>233.86</td>\n",
       "      <td>112504853</td>\n",
       "      <td>359600</td>\n",
       "      <td>234.080978</td>\n",
       "    </tr>\n",
       "    <tr>\n",
       "      <th>2017-03-27 04:00:00+00:00</th>\n",
       "      <td>108.65</td>\n",
       "      <td>108.71</td>\n",
       "      <td>108.5345</td>\n",
       "      <td>108.62</td>\n",
       "      <td>1977292</td>\n",
       "      <td>11112</td>\n",
       "      <td>108.600681</td>\n",
       "      <td>231.97</td>\n",
       "      <td>233.92</td>\n",
       "      <td>231.61</td>\n",
       "      <td>233.62</td>\n",
       "      <td>87454452</td>\n",
       "      <td>289784</td>\n",
       "      <td>233.041576</td>\n",
       "    </tr>\n",
       "  </tbody>\n",
       "</table>\n",
       "</div>"
      ],
      "text/plain": [
       "                              AGG                                     \\\n",
       "                             open    high       low   close   volume   \n",
       "timestamp                                                              \n",
       "2017-03-21 04:00:00+00:00  107.93  108.27  107.9300  108.27  2049680   \n",
       "2017-03-22 04:00:00+00:00  108.44  108.54  108.3600  108.42  2643641   \n",
       "2017-03-23 04:00:00+00:00  108.44  108.51  108.2635  108.45  2071485   \n",
       "2017-03-24 04:00:00+00:00  108.35  108.51  108.3100  108.36  3374871   \n",
       "2017-03-27 04:00:00+00:00  108.65  108.71  108.5345  108.62  1977292   \n",
       "\n",
       "                                                      SPY                  \\\n",
       "                          trade_count        vwap    open    high     low   \n",
       "timestamp                                                                   \n",
       "2017-03-21 04:00:00+00:00       12024  108.175725  237.49  237.61  233.58   \n",
       "2017-03-22 04:00:00+00:00       11111  108.455049  233.73  234.61  233.05   \n",
       "2017-03-23 04:00:00+00:00       10901  108.417635  233.98  235.34  233.60   \n",
       "2017-03-24 04:00:00+00:00       11229  108.398485  234.35  235.04  232.96   \n",
       "2017-03-27 04:00:00+00:00       11112  108.600681  231.97  233.92  231.61   \n",
       "\n",
       "                                                                      \n",
       "                            close     volume trade_count        vwap  \n",
       "timestamp                                                             \n",
       "2017-03-21 04:00:00+00:00  233.73  131809275      443599  234.853857  \n",
       "2017-03-22 04:00:00+00:00  234.28   97569204      307469  233.932509  \n",
       "2017-03-23 04:00:00+00:00  234.03  100410277      333903  234.388790  \n",
       "2017-03-24 04:00:00+00:00  233.86  112504853      359600  234.080978  \n",
       "2017-03-27 04:00:00+00:00  233.62   87454452      289784  233.041576  "
      ]
     },
     "execution_count": 27,
     "metadata": {},
     "output_type": "execute_result"
    }
   ],
   "source": [
    "# Reorganize the DataFrame\n",
    "AGG = alpaca_data[alpaca_data[\"symbol\"]==\"AGG\"].drop(\"symbol\", axis=1)\n",
    "SPY = alpaca_data[alpaca_data[\"symbol\"]==\"SPY\"].drop(\"symbol\", axis=1)\n",
    "# Concatenate the ticker DataFrames\n",
    "alpaca_data = pd.concat([AGG , SPY], axis=1, keys=[\"AGG\",\"SPY\"])\n",
    "alpaca_data.head(5)\n"
   ]
  },
  {
   "cell_type": "code",
   "execution_count": 28,
   "id": "7aeec1d4",
   "metadata": {},
   "outputs": [
    {
     "data": {
      "text/html": [
       "<div>\n",
       "<style scoped>\n",
       "    .dataframe tbody tr th:only-of-type {\n",
       "        vertical-align: middle;\n",
       "    }\n",
       "\n",
       "    .dataframe tbody tr th {\n",
       "        vertical-align: top;\n",
       "    }\n",
       "\n",
       "    .dataframe thead tr th {\n",
       "        text-align: left;\n",
       "    }\n",
       "\n",
       "    .dataframe thead tr:last-of-type th {\n",
       "        text-align: right;\n",
       "    }\n",
       "</style>\n",
       "<table border=\"1\" class=\"dataframe\">\n",
       "  <thead>\n",
       "    <tr>\n",
       "      <th></th>\n",
       "      <th colspan=\"8\" halign=\"left\">AGG</th>\n",
       "      <th colspan=\"8\" halign=\"left\">SPY</th>\n",
       "    </tr>\n",
       "    <tr>\n",
       "      <th></th>\n",
       "      <th>open</th>\n",
       "      <th>high</th>\n",
       "      <th>low</th>\n",
       "      <th>close</th>\n",
       "      <th>volume</th>\n",
       "      <th>trade_count</th>\n",
       "      <th>vwap</th>\n",
       "      <th>daily_return</th>\n",
       "      <th>open</th>\n",
       "      <th>high</th>\n",
       "      <th>low</th>\n",
       "      <th>close</th>\n",
       "      <th>volume</th>\n",
       "      <th>trade_count</th>\n",
       "      <th>vwap</th>\n",
       "      <th>daily_return</th>\n",
       "    </tr>\n",
       "    <tr>\n",
       "      <th>timestamp</th>\n",
       "      <th></th>\n",
       "      <th></th>\n",
       "      <th></th>\n",
       "      <th></th>\n",
       "      <th></th>\n",
       "      <th></th>\n",
       "      <th></th>\n",
       "      <th></th>\n",
       "      <th></th>\n",
       "      <th></th>\n",
       "      <th></th>\n",
       "      <th></th>\n",
       "      <th></th>\n",
       "      <th></th>\n",
       "      <th></th>\n",
       "      <th></th>\n",
       "    </tr>\n",
       "  </thead>\n",
       "  <tbody>\n",
       "    <tr>\n",
       "      <th>2017-03-21 04:00:00+00:00</th>\n",
       "      <td>107.93</td>\n",
       "      <td>108.27</td>\n",
       "      <td>107.9300</td>\n",
       "      <td>108.27</td>\n",
       "      <td>2049680</td>\n",
       "      <td>12024</td>\n",
       "      <td>108.175725</td>\n",
       "      <td>NaN</td>\n",
       "      <td>237.49</td>\n",
       "      <td>237.61</td>\n",
       "      <td>233.58</td>\n",
       "      <td>233.73</td>\n",
       "      <td>131809275</td>\n",
       "      <td>443599</td>\n",
       "      <td>234.853857</td>\n",
       "      <td>NaN</td>\n",
       "    </tr>\n",
       "    <tr>\n",
       "      <th>2017-03-22 04:00:00+00:00</th>\n",
       "      <td>108.44</td>\n",
       "      <td>108.54</td>\n",
       "      <td>108.3600</td>\n",
       "      <td>108.42</td>\n",
       "      <td>2643641</td>\n",
       "      <td>11111</td>\n",
       "      <td>108.455049</td>\n",
       "      <td>0.001385</td>\n",
       "      <td>233.73</td>\n",
       "      <td>234.61</td>\n",
       "      <td>233.05</td>\n",
       "      <td>234.28</td>\n",
       "      <td>97569204</td>\n",
       "      <td>307469</td>\n",
       "      <td>233.932509</td>\n",
       "      <td>0.002353</td>\n",
       "    </tr>\n",
       "    <tr>\n",
       "      <th>2017-03-23 04:00:00+00:00</th>\n",
       "      <td>108.44</td>\n",
       "      <td>108.51</td>\n",
       "      <td>108.2635</td>\n",
       "      <td>108.45</td>\n",
       "      <td>2071485</td>\n",
       "      <td>10901</td>\n",
       "      <td>108.417635</td>\n",
       "      <td>0.000277</td>\n",
       "      <td>233.98</td>\n",
       "      <td>235.34</td>\n",
       "      <td>233.60</td>\n",
       "      <td>234.03</td>\n",
       "      <td>100410277</td>\n",
       "      <td>333903</td>\n",
       "      <td>234.388790</td>\n",
       "      <td>-0.001067</td>\n",
       "    </tr>\n",
       "    <tr>\n",
       "      <th>2017-03-24 04:00:00+00:00</th>\n",
       "      <td>108.35</td>\n",
       "      <td>108.51</td>\n",
       "      <td>108.3100</td>\n",
       "      <td>108.36</td>\n",
       "      <td>3374871</td>\n",
       "      <td>11229</td>\n",
       "      <td>108.398485</td>\n",
       "      <td>-0.000830</td>\n",
       "      <td>234.35</td>\n",
       "      <td>235.04</td>\n",
       "      <td>232.96</td>\n",
       "      <td>233.86</td>\n",
       "      <td>112504853</td>\n",
       "      <td>359600</td>\n",
       "      <td>234.080978</td>\n",
       "      <td>-0.000726</td>\n",
       "    </tr>\n",
       "    <tr>\n",
       "      <th>2017-03-27 04:00:00+00:00</th>\n",
       "      <td>108.65</td>\n",
       "      <td>108.71</td>\n",
       "      <td>108.5345</td>\n",
       "      <td>108.62</td>\n",
       "      <td>1977292</td>\n",
       "      <td>11112</td>\n",
       "      <td>108.600681</td>\n",
       "      <td>0.002399</td>\n",
       "      <td>231.97</td>\n",
       "      <td>233.92</td>\n",
       "      <td>231.61</td>\n",
       "      <td>233.62</td>\n",
       "      <td>87454452</td>\n",
       "      <td>289784</td>\n",
       "      <td>233.041576</td>\n",
       "      <td>-0.001026</td>\n",
       "    </tr>\n",
       "  </tbody>\n",
       "</table>\n",
       "</div>"
      ],
      "text/plain": [
       "                              AGG                                     \\\n",
       "                             open    high       low   close   volume   \n",
       "timestamp                                                              \n",
       "2017-03-21 04:00:00+00:00  107.93  108.27  107.9300  108.27  2049680   \n",
       "2017-03-22 04:00:00+00:00  108.44  108.54  108.3600  108.42  2643641   \n",
       "2017-03-23 04:00:00+00:00  108.44  108.51  108.2635  108.45  2071485   \n",
       "2017-03-24 04:00:00+00:00  108.35  108.51  108.3100  108.36  3374871   \n",
       "2017-03-27 04:00:00+00:00  108.65  108.71  108.5345  108.62  1977292   \n",
       "\n",
       "                                                                   SPY  \\\n",
       "                          trade_count        vwap daily_return    open   \n",
       "timestamp                                                                \n",
       "2017-03-21 04:00:00+00:00       12024  108.175725          NaN  237.49   \n",
       "2017-03-22 04:00:00+00:00       11111  108.455049     0.001385  233.73   \n",
       "2017-03-23 04:00:00+00:00       10901  108.417635     0.000277  233.98   \n",
       "2017-03-24 04:00:00+00:00       11229  108.398485    -0.000830  234.35   \n",
       "2017-03-27 04:00:00+00:00       11112  108.600681     0.002399  231.97   \n",
       "\n",
       "                                                                          \\\n",
       "                             high     low   close     volume trade_count   \n",
       "timestamp                                                                  \n",
       "2017-03-21 04:00:00+00:00  237.61  233.58  233.73  131809275      443599   \n",
       "2017-03-22 04:00:00+00:00  234.61  233.05  234.28   97569204      307469   \n",
       "2017-03-23 04:00:00+00:00  235.34  233.60  234.03  100410277      333903   \n",
       "2017-03-24 04:00:00+00:00  235.04  232.96  233.86  112504853      359600   \n",
       "2017-03-27 04:00:00+00:00  233.92  231.61  233.62   87454452      289784   \n",
       "\n",
       "                                                    \n",
       "                                 vwap daily_return  \n",
       "timestamp                                           \n",
       "2017-03-21 04:00:00+00:00  234.853857          NaN  \n",
       "2017-03-22 04:00:00+00:00  233.932509     0.002353  \n",
       "2017-03-23 04:00:00+00:00  234.388790    -0.001067  \n",
       "2017-03-24 04:00:00+00:00  234.080978    -0.000726  \n",
       "2017-03-27 04:00:00+00:00  233.041576    -0.001026  "
      ]
     },
     "execution_count": 28,
     "metadata": {},
     "output_type": "execute_result"
    }
   ],
   "source": [
    "from MCForecastTools import MCSimulation \n",
    "# Configure a Monte Carlo simulation to forecast 30 years  returns\n",
    "MC_Simulation_30_years = MCSimulation(\n",
    "     portfolio_data = alpaca_data,\n",
    "    weights = [.4,.6],\n",
    "    num_simulation = 500,\n",
    "    num_trading_days = 252*30)\n",
    "\n",
    "# Print the simulation input data\n",
    "MC_Simulation_30_years.portfolio_data.head(5)"
   ]
  },
  {
   "cell_type": "code",
   "execution_count": 30,
   "id": "7c6ce619",
   "metadata": {},
   "outputs": [
    {
     "name": "stdout",
     "output_type": "stream",
     "text": [
      "Running Monte Carlo simulation number 0.\n",
      "Running Monte Carlo simulation number 10.\n",
      "Running Monte Carlo simulation number 20.\n",
      "Running Monte Carlo simulation number 30.\n",
      "Running Monte Carlo simulation number 40.\n",
      "Running Monte Carlo simulation number 50.\n",
      "Running Monte Carlo simulation number 60.\n",
      "Running Monte Carlo simulation number 70.\n",
      "Running Monte Carlo simulation number 80.\n",
      "Running Monte Carlo simulation number 90.\n",
      "Running Monte Carlo simulation number 100.\n",
      "Running Monte Carlo simulation number 110.\n",
      "Running Monte Carlo simulation number 120.\n",
      "Running Monte Carlo simulation number 130.\n",
      "Running Monte Carlo simulation number 140.\n",
      "Running Monte Carlo simulation number 150.\n",
      "Running Monte Carlo simulation number 160.\n",
      "Running Monte Carlo simulation number 170.\n",
      "Running Monte Carlo simulation number 180.\n",
      "Running Monte Carlo simulation number 190.\n",
      "Running Monte Carlo simulation number 200.\n",
      "Running Monte Carlo simulation number 210.\n",
      "Running Monte Carlo simulation number 220.\n",
      "Running Monte Carlo simulation number 230.\n",
      "Running Monte Carlo simulation number 240.\n",
      "Running Monte Carlo simulation number 250.\n",
      "Running Monte Carlo simulation number 260.\n",
      "Running Monte Carlo simulation number 270.\n",
      "Running Monte Carlo simulation number 280.\n",
      "Running Monte Carlo simulation number 290.\n",
      "Running Monte Carlo simulation number 300.\n",
      "Running Monte Carlo simulation number 310.\n",
      "Running Monte Carlo simulation number 320.\n",
      "Running Monte Carlo simulation number 330.\n",
      "Running Monte Carlo simulation number 340.\n",
      "Running Monte Carlo simulation number 350.\n",
      "Running Monte Carlo simulation number 360.\n",
      "Running Monte Carlo simulation number 370.\n",
      "Running Monte Carlo simulation number 380.\n",
      "Running Monte Carlo simulation number 390.\n",
      "Running Monte Carlo simulation number 400.\n",
      "Running Monte Carlo simulation number 410.\n",
      "Running Monte Carlo simulation number 420.\n",
      "Running Monte Carlo simulation number 430.\n",
      "Running Monte Carlo simulation number 440.\n",
      "Running Monte Carlo simulation number 450.\n",
      "Running Monte Carlo simulation number 460.\n",
      "Running Monte Carlo simulation number 470.\n",
      "Running Monte Carlo simulation number 480.\n",
      "Running Monte Carlo simulation number 490.\n"
     ]
    },
    {
     "data": {
      "image/png": "[encoded data removed]",
      "text/plain": [
       "<Figure size 432x288 with 1 Axes>"
      ]
     },
     "metadata": {
      "needs_background": "light"
     },
     "output_type": "display_data"
    }
   ],
   "source": [
    " # Plot simulation outcomes\n",
    "line_plot = MC_Simulation_30_years.plot_simulation()"
   ]
  },
  {
   "cell_type": "code",
   "execution_count": 31,
   "id": "487ded6f",
   "metadata": {},
   "outputs": [
    {
     "data": {
      "image/png": "[encoded data removed]",
      "text/plain": [
       "<Figure size 432x288 with 1 Axes>"
      ]
     },
     "metadata": {
      "needs_background": "light"
     },
     "output_type": "display_data"
    }
   ],
   "source": [
    "# Plot probability distribution and confidence intervals\n",
    "dist_plot = MC_Simulation_30_years.plot_distribution()"
   ]
  },
  {
   "cell_type": "code",
   "execution_count": 32,
   "id": "1a4d894b",
   "metadata": {},
   "outputs": [
    {
     "name": "stdout",
     "output_type": "stream",
     "text": [
      "count           500.000000\n",
      "mean             13.688919\n",
      "std              10.255695\n",
      "min               1.432063\n",
      "25%               7.186620\n",
      "50%              10.936853\n",
      "75%              17.216007\n",
      "max             100.513297\n",
      "95% CI Lower      2.819456\n",
      "95% CI Upper     38.970898\n",
      "Name: 7560, dtype: float64\n"
     ]
    }
   ],
   "source": [
    "# Fetch summary statistics from the Monte Carlo simulation results\n",
    "even_tbl = MC_Simulation_30_years.summarize_cumulative_return()\n",
    "# Print summary statistics\n",
    "print(even_tbl)"
   ]
  },
  {
   "cell_type": "code",
   "execution_count": 33,
   "id": "51166ff5",
   "metadata": {},
   "outputs": [
    {
     "name": "stdout",
     "output_type": "stream",
     "text": [
      "There is a 95% chance that an initial investment of $20,000 in the portfolio over the next 30 years will end within in the range of $56389.12 and $779417.96.\n"
     ]
    }
   ],
   "source": [
    "\n",
    "# Use the lower and upper `95%` confidence intervals to calculate the range of the possible outcomes of our $20,000 investments in stocks\n",
    "even_ci_lower = round(even_tbl[8]*20000,2)\n",
    "even_ci_upper = round(even_tbl[9]*20000,2)\n",
    "\n",
    "# Print results\n",
    "print(f\"There is a 95% chance that an initial investment of $20,000 in the portfolio\"\n",
    "      f\" over the next 30 years will end within in the range of\"\n",
    "      f\" ${even_ci_lower} and ${even_ci_upper}.\")"
   ]
  },
  {
   "cell_type": "code",
   "execution_count": 34,
   "id": "d506b6ae",
   "metadata": {},
   "outputs": [
    {
     "name": "stdout",
     "output_type": "stream",
     "text": [
      "There is a 95% chance that an initial investment of $30,000 in the portfolio over the next 30 years will end within in the range of $84583.67 and $1169126.95.\n"
     ]
    }
   ],
   "source": [
    "# Use the lower and upper `95%` confidence intervals to calculate the range of the possible outcomes of our $30,000 investments in stocks\n",
    "even_ci_lower = round(even_tbl[8]*30000,2)\n",
    "even_ci_upper = round(even_tbl[9]*30000,2)\n",
    "\n",
    "# Print results\n",
    "print(f\"There is a 95% chance that an initial investment of $30,000 in the portfolio\"\n",
    "      f\" over the next 30 years will end within in the range of\"\n",
    "      f\" ${even_ci_lower} and ${even_ci_upper}.\")"
   ]
  },
  {
   "cell_type": "code",
   "execution_count": null,
   "id": "3e51e3cc",
   "metadata": {},
   "outputs": [],
   "source": []
  },
  {
   "cell_type": "code",
   "execution_count": null,
   "id": "ccba3a2e",
   "metadata": {},
   "outputs": [],
   "source": []
  }
 ],
 "metadata": {
  "kernelspec": {
   "display_name": "Python 3 (ipykernel)",
   "language": "python",
   "name": "python3"
  },
  "language_info": {
   "codemirror_mode": {
    "name": "ipython",
    "version": 3
   },
   "file_extension": ".py",
   "mimetype": "text/x-python",
   "name": "python",
   "nbconvert_exporter": "python",
   "pygments_lexer": "ipython3",
   "version": "3.7.11"
  }
 },
 "nbformat": 4,
 "nbformat_minor": 5
}
